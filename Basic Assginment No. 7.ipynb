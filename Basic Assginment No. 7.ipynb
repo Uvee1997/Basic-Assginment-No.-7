{
 "cells": [
  {
   "cell_type": "markdown",
   "id": "e7effb63",
   "metadata": {},
   "source": [
    "1) What is the name of the feature responsible for generating Regex object?\n",
    "\n",
    ":- re. compile()"
   ]
  },
  {
   "cell_type": "markdown",
   "id": "262d355f",
   "metadata": {},
   "source": [
    "2) Why do raw strings often appear in Regex objects?\n",
    "\n",
    ":- Raw string used that backslashes do not have to be escaped."
   ]
  },
  {
   "cell_type": "markdown",
   "id": "9d3b6f84",
   "metadata": {},
   "source": [
    "3) What is the return value of the search() method?\n",
    "\n",
    ":- -1"
   ]
  },
  {
   "cell_type": "markdown",
   "id": "c2799b51",
   "metadata": {},
   "source": [
    "4) From a Match item, how do you get the actual strings that match the pattern?\n",
    "\n",
    ":- group() method."
   ]
  },
  {
   "cell_type": "markdown",
   "id": "f374bbe7",
   "metadata": {},
   "source": [
    "5) In the regex which created from the r'(\\d\\d\\d)-(\\d\\d\\d-\\d\\d\\d\\d)', what does group zero cover? Group2? Group1?\n",
    "\n",
    ":- '(\\\\d\\\\d\\\\d)-(\\\\d\\\\d\\\\d-\\\\d\\\\d\\\\d\\\\d)' / Group 0"
   ]
  },
  {
   "cell_type": "markdown",
   "id": "67d505c5",
   "metadata": {},
   "source": [
    "6) In standard expression syntax, parentheses and intervals have distinct meanings. How can you tell\n",
    "   a regex that you want it to fit real parentheses and periods?\n",
    "   \n",
    ":- Periods & parentheses can be escaped with backlashes.(\\ ,\\ , and\\)"
   ]
  },
  {
   "cell_type": "markdown",
   "id": "d9fc1f34",
   "metadata": {},
   "source": [
    "7) The findall() method returns a string list or a list of string tuples. What causes it to return one of\n",
    "   the two options?\n",
    "   \n",
    ":- If a regex has no group string list is returned, If regex has a group it will return list of string tuples.   "
   ]
  },
  {
   "cell_type": "markdown",
   "id": "c62d3e48",
   "metadata": {},
   "source": [
    "8) In standard expression what does | charater item meam?\n",
    "\n",
    ":- either , or between two group"
   ]
  },
  {
   "cell_type": "code",
   "execution_count": null,
   "id": "3bacd24c",
   "metadata": {},
   "outputs": [],
   "source": [
    "9) In regular expression, what does the character stands for?\n",
    "\n",
    ":- "
   ]
  },
  {
   "cell_type": "markdown",
   "id": "7e919578",
   "metadata": {},
   "source": [
    "10) In regular experssion, what is the difference between '+' & '*' experssion?\n",
    "\n",
    ":- The + matches one or more. The * matches zero or more."
   ]
  },
  {
   "cell_type": "markdown",
   "id": "1495c4c8",
   "metadata": {},
   "source": [
    "11) What is the difference between {4} & {4,5} in regular expression?\n",
    "\n",
    ":- here {4} is integer while {4,5} is regex character"
   ]
  },
  {
   "cell_type": "markdown",
   "id": "a2bd68ec",
   "metadata": {},
   "source": [
    "12) What do you mean by the \\d, \\w, and \\s shorthand character classes signify in regular expression?\n",
    "\n",
    ":- \\d = \\\\d\n",
    "    \\w = \\\\w\n",
    "    \\s = \\\\s "
   ]
  },
  {
   "cell_type": "markdown",
   "id": "122cb2ef",
   "metadata": {},
   "source": [
    "13) What do you mean by the \\D, \\W, and \\S shorthand character classes signify in regular expression?\n",
    "\n",
    ":- \\D = \\\\D\n",
    "   \\W = \\\\W\n",
    "   \\S = \\\\S"
   ]
  },
  {
   "cell_type": "markdown",
   "id": "ca78ea56",
   "metadata": {},
   "source": [
    "14) What is the difference between .*? and .*?\n",
    "\n",
    ":- .* it indicate group or one time, while the secound indicates run of any length at any character."
   ]
  },
  {
   "cell_type": "markdown",
   "id": "d178fcc1",
   "metadata": {},
   "source": [
    "15) What is the syntex for matching both numbers & lowercases with a character class?\n",
    "\n",
    ":- [-] Range expression"
   ]
  },
  {
   "cell_type": "markdown",
   "id": "f37f96d4",
   "metadata": {},
   "source": [
    "16) What is the procedure for making a normal expression in regax case insensitive?\n",
    "\n",
    ":- using CASE_INSENSITIVE & modifier"
   ]
  },
  {
   "cell_type": "markdown",
   "id": "82d429a4",
   "metadata": {},
   "source": [
    "17) What does the . character normally match? What does it match if re.DOTALL is passed as 2nd argument in re.complie()?\n",
    "\n",
    ":- any character except the newline character. If re. DOTALL is passed as the second argument to re. compile(), \n",
    "   then the dot will also match newline characters."
   ]
  },
  {
   "cell_type": "code",
   "execution_count": null,
   "id": "5701895c",
   "metadata": {},
   "outputs": [],
   "source": [
    "18) If numReg = re.compile(r\\'d+'),what will numRegex.sub('X','11 drummers,10 pipers, 5 rings,4 hen')return\n",
    "\n",
    ":- "
   ]
  },
  {
   "cell_type": "markdown",
   "id": "be766bf7",
   "metadata": {},
   "source": [
    "19) What does passing re.VERBOSE as the 2nd argument to re.compile() allow to do?\n",
    "\n",
    ":-  allows you to add whitespace and comments to the string passed to re.\n"
   ]
  },
  {
   "cell_type": "markdown",
   "id": "ee737055",
   "metadata": {},
   "source": [
    "20) How would you write a regex that match a number with comma for every three digits?\n",
    "\n",
    ":- \\d{1,3}(,\\d{3})*$"
   ]
  }
 ],
 "metadata": {
  "kernelspec": {
   "display_name": "Python 3 (ipykernel)",
   "language": "python",
   "name": "python3"
  },
  "language_info": {
   "codemirror_mode": {
    "name": "ipython",
    "version": 3
   },
   "file_extension": ".py",
   "mimetype": "text/x-python",
   "name": "python",
   "nbconvert_exporter": "python",
   "pygments_lexer": "ipython3",
   "version": "3.9.7"
  }
 },
 "nbformat": 4,
 "nbformat_minor": 5
}
